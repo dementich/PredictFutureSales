{
 "cells": [
  {
   "cell_type": "code",
   "execution_count": 1,
   "metadata": {},
   "outputs": [],
   "source": [
    "import warnings\n",
    "warnings.filterwarnings('ignore')\n",
    "\n",
    "import numpy as np\n",
    "import pandas as pd\n",
    "import matplotlib as mpl\n",
    "import matplotlib.pyplot as plt"
   ]
  },
  {
   "cell_type": "markdown",
   "metadata": {},
   "source": [
    "# Загрузка данных"
   ]
  },
  {
   "cell_type": "code",
   "execution_count": 2,
   "metadata": {},
   "outputs": [],
   "source": [
    "sales_train = pd.read_csv('../data/sales_train.csv.gz')\n",
    "test = pd.read_csv('../data/test.csv.gz', index_col='ID')\n",
    "items = pd.read_csv('../data/items.csv')\n",
    "item_categories = pd.read_csv('../data/item_categories_enriched.csv')\n",
    "sample_submission = pd.read_csv('../data/sample_submission.csv', index_col='ID')\n",
    "shops = pd.read_csv('../data/shops_enriched.csv')"
   ]
  },
  {
   "cell_type": "markdown",
   "metadata": {},
   "source": [
    "Помним, что в итоге от нас требуется построить прогноз каждого товара тестовой выборки в каждом магазине тестовой выборки. По этой причине для тестирования модели надо выбрать какой-то магазин и построить прогноз по нему."
   ]
  },
  {
   "cell_type": "code",
   "execution_count": 3,
   "metadata": {},
   "outputs": [
    {
     "data": {
      "text/html": [
       "<div>\n",
       "<style scoped>\n",
       "    .dataframe tbody tr th:only-of-type {\n",
       "        vertical-align: middle;\n",
       "    }\n",
       "\n",
       "    .dataframe tbody tr th {\n",
       "        vertical-align: top;\n",
       "    }\n",
       "\n",
       "    .dataframe thead th {\n",
       "        text-align: right;\n",
       "    }\n",
       "</style>\n",
       "<table border=\"1\" class=\"dataframe\">\n",
       "  <thead>\n",
       "    <tr style=\"text-align: right;\">\n",
       "      <th></th>\n",
       "      <th>shop_id</th>\n",
       "      <th>item_id</th>\n",
       "    </tr>\n",
       "    <tr>\n",
       "      <th>ID</th>\n",
       "      <th></th>\n",
       "      <th></th>\n",
       "    </tr>\n",
       "  </thead>\n",
       "  <tbody>\n",
       "    <tr>\n",
       "      <th>0</th>\n",
       "      <td>5</td>\n",
       "      <td>5037</td>\n",
       "    </tr>\n",
       "    <tr>\n",
       "      <th>1</th>\n",
       "      <td>5</td>\n",
       "      <td>5320</td>\n",
       "    </tr>\n",
       "    <tr>\n",
       "      <th>2</th>\n",
       "      <td>5</td>\n",
       "      <td>5233</td>\n",
       "    </tr>\n",
       "    <tr>\n",
       "      <th>3</th>\n",
       "      <td>5</td>\n",
       "      <td>5232</td>\n",
       "    </tr>\n",
       "    <tr>\n",
       "      <th>4</th>\n",
       "      <td>5</td>\n",
       "      <td>5268</td>\n",
       "    </tr>\n",
       "  </tbody>\n",
       "</table>\n",
       "</div>"
      ],
      "text/plain": [
       "    shop_id  item_id\n",
       "ID                  \n",
       "0         5     5037\n",
       "1         5     5320\n",
       "2         5     5233\n",
       "3         5     5232\n",
       "4         5     5268"
      ]
     },
     "execution_count": 3,
     "metadata": {},
     "output_type": "execute_result"
    }
   ],
   "source": [
    "test.head()"
   ]
  },
  {
   "cell_type": "markdown",
   "metadata": {},
   "source": [
    "# Подумаем, какой прогноз надо строить в качестве примера\n",
    "\n",
    "Прогноз будем строить по одному магазину, поэтому для начала выберем самый средний магазин. Для этого найдем магазин в городе, где в 2015 году было медианное население среди всех городов, упомянутых в данных."
   ]
  },
  {
   "cell_type": "code",
   "execution_count": 4,
   "metadata": {},
   "outputs": [
    {
     "data": {
      "text/plain": [
       "shop_name    Красноярск ТЦ \"Взлетка Плаза\"\n",
       "shop_id                                 17\n",
       "is_mall                                  1\n",
       "location                        Красноярск\n",
       "2013                           1.01638e+06\n",
       "2014                           1.03553e+06\n",
       "2015                           1.05222e+06\n",
       "Name: 17, dtype: object"
      ]
     },
     "execution_count": 4,
     "metadata": {},
     "output_type": "execute_result"
    }
   ],
   "source": [
    "shops.iloc[np.argmin(np.abs(shops['2015'] - shops['2015'].median()))]"
   ]
  },
  {
   "cell_type": "code",
   "execution_count": 5,
   "metadata": {},
   "outputs": [
    {
     "data": {
      "text/plain": [
       "array([ 2,  3,  4,  5,  6,  7, 10, 12, 14, 15, 16, 18, 19, 21, 22, 24, 25,\n",
       "       26, 28, 31, 34, 35, 36, 37, 38, 39, 41, 42, 44, 45, 46, 47, 48, 49,\n",
       "       50, 52, 53, 55, 56, 57, 58, 59], dtype=int64)"
      ]
     },
     "execution_count": 5,
     "metadata": {},
     "output_type": "execute_result"
    }
   ],
   "source": [
    "np.sort(test['shop_id'].unique())"
   ]
  },
  {
   "cell_type": "markdown",
   "metadata": {},
   "source": [
    "Появилась Взлетка Плаза в Красноярске. Но это не лучший выбор, т.к. этого магазина нет в тестовой выборке. Зато в ней есть магазин с индексом 18, который тоже из Красноярска:"
   ]
  },
  {
   "cell_type": "code",
   "execution_count": 6,
   "metadata": {},
   "outputs": [
    {
     "data": {
      "text/html": [
       "<div>\n",
       "<style scoped>\n",
       "    .dataframe tbody tr th:only-of-type {\n",
       "        vertical-align: middle;\n",
       "    }\n",
       "\n",
       "    .dataframe tbody tr th {\n",
       "        vertical-align: top;\n",
       "    }\n",
       "\n",
       "    .dataframe thead th {\n",
       "        text-align: right;\n",
       "    }\n",
       "</style>\n",
       "<table border=\"1\" class=\"dataframe\">\n",
       "  <thead>\n",
       "    <tr style=\"text-align: right;\">\n",
       "      <th></th>\n",
       "      <th>shop_name</th>\n",
       "      <th>shop_id</th>\n",
       "      <th>is_mall</th>\n",
       "      <th>location</th>\n",
       "      <th>2013</th>\n",
       "      <th>2014</th>\n",
       "      <th>2015</th>\n",
       "    </tr>\n",
       "  </thead>\n",
       "  <tbody>\n",
       "    <tr>\n",
       "      <th>18</th>\n",
       "      <td>Красноярск ТЦ \"Июнь\"</td>\n",
       "      <td>18</td>\n",
       "      <td>1</td>\n",
       "      <td>Красноярск</td>\n",
       "      <td>1016385.0</td>\n",
       "      <td>1035528.0</td>\n",
       "      <td>1052218.0</td>\n",
       "    </tr>\n",
       "  </tbody>\n",
       "</table>\n",
       "</div>"
      ],
      "text/plain": [
       "               shop_name  shop_id  is_mall    location       2013       2014  \\\n",
       "18  Красноярск ТЦ \"Июнь\"       18        1  Красноярск  1016385.0  1035528.0   \n",
       "\n",
       "         2015  \n",
       "18  1052218.0  "
      ]
     },
     "execution_count": 6,
     "metadata": {},
     "output_type": "execute_result"
    }
   ],
   "source": [
    "shops[shops['shop_id'] == 18]"
   ]
  },
  {
   "cell_type": "markdown",
   "metadata": {},
   "source": [
    "Его и возьмем.\n",
    "\n",
    "Посмотрим на номенклатуру его товаров в обучающей выборке:"
   ]
  },
  {
   "cell_type": "code",
   "execution_count": 7,
   "metadata": {},
   "outputs": [
    {
     "data": {
      "text/plain": [
       "9073"
      ]
     },
     "execution_count": 7,
     "metadata": {},
     "output_type": "execute_result"
    }
   ],
   "source": [
    "shop18 = sales_train[sales_train['shop_id'] == 18]\n",
    "len(shop18['item_id'].unique())"
   ]
  },
  {
   "cell_type": "markdown",
   "metadata": {},
   "source": [
    "И в тестовой:"
   ]
  },
  {
   "cell_type": "code",
   "execution_count": 8,
   "metadata": {},
   "outputs": [
    {
     "data": {
      "text/plain": [
       "5100"
      ]
     },
     "execution_count": 8,
     "metadata": {},
     "output_type": "execute_result"
    }
   ],
   "source": [
    "len(test[test['shop_id'] == 18]['item_id'].unique())"
   ]
  },
  {
   "cell_type": "markdown",
   "metadata": {},
   "source": [
    "Помним, что не только в ТЦ Июнь, но и во всей тестовой выборке 5100 товаров. Похоже, в июне есть все товары тестовой выборки. Проверим это."
   ]
  },
  {
   "cell_type": "code",
   "execution_count": 9,
   "metadata": {},
   "outputs": [
    {
     "data": {
      "text/plain": [
       "5100"
      ]
     },
     "execution_count": 9,
     "metadata": {},
     "output_type": "execute_result"
    }
   ],
   "source": [
    "sum(np.isin(test[test['shop_id'] == 18]['item_id'].unique(), test['item_id'].unique()))"
   ]
  },
  {
   "cell_type": "markdown",
   "metadata": {},
   "source": [
    "Так и есть.\n",
    "\n",
    "Для начала не будем выбирать все товары, а попробуем спрогнозировать какой-нибудь самый продаваемый. Найдем его."
   ]
  },
  {
   "cell_type": "code",
   "execution_count": 10,
   "metadata": {},
   "outputs": [
    {
     "data": {
      "text/html": [
       "<div>\n",
       "<style scoped>\n",
       "    .dataframe tbody tr th:only-of-type {\n",
       "        vertical-align: middle;\n",
       "    }\n",
       "\n",
       "    .dataframe tbody tr th {\n",
       "        vertical-align: top;\n",
       "    }\n",
       "\n",
       "    .dataframe thead th {\n",
       "        text-align: right;\n",
       "    }\n",
       "</style>\n",
       "<table border=\"1\" class=\"dataframe\">\n",
       "  <thead>\n",
       "    <tr style=\"text-align: right;\">\n",
       "      <th></th>\n",
       "      <th>item_id</th>\n",
       "      <th>item_cnt</th>\n",
       "      <th>item_name</th>\n",
       "      <th>cat_1</th>\n",
       "      <th>cat_2</th>\n",
       "    </tr>\n",
       "  </thead>\n",
       "  <tbody>\n",
       "    <tr>\n",
       "      <th>0</th>\n",
       "      <td>20949</td>\n",
       "      <td>2826.0</td>\n",
       "      <td>Фирменный пакет майка 1С Интерес белый (34*42)...</td>\n",
       "      <td>Подарки</td>\n",
       "      <td>Сумки, Альбомы, Коврики д/мыши</td>\n",
       "    </tr>\n",
       "    <tr>\n",
       "      <th>1</th>\n",
       "      <td>3732</td>\n",
       "      <td>751.0</td>\n",
       "      <td>Grand Theft Auto V [PS3, русские субтитры]</td>\n",
       "      <td>Игры</td>\n",
       "      <td>PS3</td>\n",
       "    </tr>\n",
       "    <tr>\n",
       "      <th>2</th>\n",
       "      <td>16787</td>\n",
       "      <td>368.0</td>\n",
       "      <td>Одни из нас [PS3, русская версия]</td>\n",
       "      <td>Игры</td>\n",
       "      <td>PS3</td>\n",
       "    </tr>\n",
       "    <tr>\n",
       "      <th>3</th>\n",
       "      <td>3076</td>\n",
       "      <td>266.0</td>\n",
       "      <td>EA SPORTS MMA [PS3]</td>\n",
       "      <td>Игры</td>\n",
       "      <td>PS3</td>\n",
       "    </tr>\n",
       "    <tr>\n",
       "      <th>4</th>\n",
       "      <td>4886</td>\n",
       "      <td>238.0</td>\n",
       "      <td>Mortal Kombat (Essentials) (с поддержкой 3D) [...</td>\n",
       "      <td>Игры</td>\n",
       "      <td>PS3</td>\n",
       "    </tr>\n",
       "    <tr>\n",
       "      <th>5</th>\n",
       "      <td>5822</td>\n",
       "      <td>550.0</td>\n",
       "      <td>Playstation Store пополнение бумажника: Карта ...</td>\n",
       "      <td>Карты оплаты</td>\n",
       "      <td>PSN</td>\n",
       "    </tr>\n",
       "    <tr>\n",
       "      <th>6</th>\n",
       "      <td>6675</td>\n",
       "      <td>351.0</td>\n",
       "      <td>Sony PlayStation 4 (500 Gb) Black (CUH-1008A/1...</td>\n",
       "      <td>Игровые консоли</td>\n",
       "      <td>PS4</td>\n",
       "    </tr>\n",
       "    <tr>\n",
       "      <th>7</th>\n",
       "      <td>2808</td>\n",
       "      <td>332.0</td>\n",
       "      <td>Diablo III [PC, Jewel, русская версия]</td>\n",
       "      <td>Игры PC</td>\n",
       "      <td>Стандартные издания</td>\n",
       "    </tr>\n",
       "    <tr>\n",
       "      <th>8</th>\n",
       "      <td>3731</td>\n",
       "      <td>319.0</td>\n",
       "      <td>Grand Theft Auto V [PC, русские субтитры]</td>\n",
       "      <td>Игры PC</td>\n",
       "      <td>Стандартные издания</td>\n",
       "    </tr>\n",
       "    <tr>\n",
       "      <th>9</th>\n",
       "      <td>6738</td>\n",
       "      <td>227.0</td>\n",
       "      <td>StarCraft II: Heart of the Swarm (дополнение) ...</td>\n",
       "      <td>Игры PC</td>\n",
       "      <td>Стандартные издания</td>\n",
       "    </tr>\n",
       "    <tr>\n",
       "      <th>10</th>\n",
       "      <td>1855</td>\n",
       "      <td>221.0</td>\n",
       "      <td>Battlefield 4 [PC, русская версия]</td>\n",
       "      <td>Игры PC</td>\n",
       "      <td>Стандартные издания</td>\n",
       "    </tr>\n",
       "    <tr>\n",
       "      <th>11</th>\n",
       "      <td>3734</td>\n",
       "      <td>312.0</td>\n",
       "      <td>Grand Theft Auto V [Xbox 360, русские субтитры]</td>\n",
       "      <td>Игры</td>\n",
       "      <td>XBOX 360</td>\n",
       "    </tr>\n",
       "    <tr>\n",
       "      <th>12</th>\n",
       "      <td>17717</td>\n",
       "      <td>285.0</td>\n",
       "      <td>Прием денежных средств для 1С-Онлайн</td>\n",
       "      <td>Служебные</td>\n",
       "      <td>NaN</td>\n",
       "    </tr>\n",
       "    <tr>\n",
       "      <th>13</th>\n",
       "      <td>7856</td>\n",
       "      <td>259.0</td>\n",
       "      <td>World of Warcraft. Карта оплаты игрового време...</td>\n",
       "      <td>Игры PC</td>\n",
       "      <td>Дополнительные издания</td>\n",
       "    </tr>\n",
       "    <tr>\n",
       "      <th>14</th>\n",
       "      <td>2814</td>\n",
       "      <td>253.0</td>\n",
       "      <td>Diablo III: Reaper of Souls (дополнение) [PC, ...</td>\n",
       "      <td>Игры PC</td>\n",
       "      <td>Дополнительные издания</td>\n",
       "    </tr>\n",
       "  </tbody>\n",
       "</table>\n",
       "</div>"
      ],
      "text/plain": [
       "    item_id  item_cnt                                          item_name  \\\n",
       "0     20949    2826.0  Фирменный пакет майка 1С Интерес белый (34*42)...   \n",
       "1      3732     751.0         Grand Theft Auto V [PS3, русские субтитры]   \n",
       "2     16787     368.0                  Одни из нас [PS3, русская версия]   \n",
       "3      3076     266.0                                EA SPORTS MMA [PS3]   \n",
       "4      4886     238.0  Mortal Kombat (Essentials) (с поддержкой 3D) [...   \n",
       "5      5822     550.0  Playstation Store пополнение бумажника: Карта ...   \n",
       "6      6675     351.0  Sony PlayStation 4 (500 Gb) Black (CUH-1008A/1...   \n",
       "7      2808     332.0             Diablo III [PC, Jewel, русская версия]   \n",
       "8      3731     319.0          Grand Theft Auto V [PC, русские субтитры]   \n",
       "9      6738     227.0  StarCraft II: Heart of the Swarm (дополнение) ...   \n",
       "10     1855     221.0                 Battlefield 4 [PC, русская версия]   \n",
       "11     3734     312.0    Grand Theft Auto V [Xbox 360, русские субтитры]   \n",
       "12    17717     285.0               Прием денежных средств для 1С-Онлайн   \n",
       "13     7856     259.0  World of Warcraft. Карта оплаты игрового време...   \n",
       "14     2814     253.0  Diablo III: Reaper of Souls (дополнение) [PC, ...   \n",
       "\n",
       "              cat_1                            cat_2  \n",
       "0           Подарки   Сумки, Альбомы, Коврики д/мыши  \n",
       "1              Игры                              PS3  \n",
       "2              Игры                              PS3  \n",
       "3              Игры                              PS3  \n",
       "4              Игры                              PS3  \n",
       "5      Карты оплаты                              PSN  \n",
       "6   Игровые консоли                              PS4  \n",
       "7           Игры PC              Стандартные издания  \n",
       "8           Игры PC              Стандартные издания  \n",
       "9           Игры PC              Стандартные издания  \n",
       "10          Игры PC              Стандартные издания  \n",
       "11             Игры                         XBOX 360  \n",
       "12        Служебные                              NaN  \n",
       "13          Игры PC           Дополнительные издания  \n",
       "14          Игры PC           Дополнительные издания  "
      ]
     },
     "execution_count": 10,
     "metadata": {},
     "output_type": "execute_result"
    },
    {
     "data": {
      "text/plain": [
       "<Figure size 1440x360 with 0 Axes>"
      ]
     },
     "metadata": {},
     "output_type": "display_data"
    }
   ],
   "source": [
    "shop18_sales = pd.DataFrame(shop18.groupby('item_id')['item_cnt_day'].sum())\n",
    "shop18_sales.columns = ['item_cnt']\n",
    "\n",
    "fig = plt.figure(figsize=(20, 5))\n",
    "bar18_data = shop18_sales.sort_values('item_cnt', ascending=False).iloc[:15]\n",
    "bar18_data = bar18_data.reset_index()\n",
    "bar18_data.merge(items, on='item_id').merge(item_categories, on='item_category_id')\\\n",
    "                                        [['item_id', 'item_cnt', 'item_name', 'cat_1', 'cat_2']]"
   ]
  },
  {
   "cell_type": "markdown",
   "metadata": {},
   "source": [
    "Итого, в ТЦ Июнь самый продаваемый товар - это пакет-майка. Он вряд ли является полноценным товаром, за которым люди приходят в магазин. Скорее всего он коррелирует с общим количеством чеков, пробитых магазином. Большинство остального - это компьютерные игры. Таким образом, хорошими примерами товаров для прогнозирования в ТЦ Июнь являются:\n",
    "1) Пакет-майка  \n",
    "2) Grand Theft Auto V [PS3, русские субтитры] \n",
    "\n",
    "Ради интереса посмотрим на товары, проданные по всей России:"
   ]
  },
  {
   "cell_type": "code",
   "execution_count": 11,
   "metadata": {},
   "outputs": [
    {
     "data": {
      "text/html": [
       "<div>\n",
       "<style scoped>\n",
       "    .dataframe tbody tr th:only-of-type {\n",
       "        vertical-align: middle;\n",
       "    }\n",
       "\n",
       "    .dataframe tbody tr th {\n",
       "        vertical-align: top;\n",
       "    }\n",
       "\n",
       "    .dataframe thead th {\n",
       "        text-align: right;\n",
       "    }\n",
       "</style>\n",
       "<table border=\"1\" class=\"dataframe\">\n",
       "  <thead>\n",
       "    <tr style=\"text-align: right;\">\n",
       "      <th></th>\n",
       "      <th>item_id</th>\n",
       "      <th>item_cnt</th>\n",
       "      <th>item_name</th>\n",
       "      <th>cat_1</th>\n",
       "      <th>cat_2</th>\n",
       "    </tr>\n",
       "  </thead>\n",
       "  <tbody>\n",
       "    <tr>\n",
       "      <th>0</th>\n",
       "      <td>20949</td>\n",
       "      <td>187642.0</td>\n",
       "      <td>Фирменный пакет майка 1С Интерес белый (34*42)...</td>\n",
       "      <td>Подарки</td>\n",
       "      <td>Сумки, Альбомы, Коврики д/мыши</td>\n",
       "    </tr>\n",
       "    <tr>\n",
       "      <th>1</th>\n",
       "      <td>2808</td>\n",
       "      <td>17245.0</td>\n",
       "      <td>Diablo III [PC, Jewel, русская версия]</td>\n",
       "      <td>Игры PC</td>\n",
       "      <td>Стандартные издания</td>\n",
       "    </tr>\n",
       "    <tr>\n",
       "      <th>2</th>\n",
       "      <td>3731</td>\n",
       "      <td>10099.0</td>\n",
       "      <td>Grand Theft Auto V [PC, русские субтитры]</td>\n",
       "      <td>Игры PC</td>\n",
       "      <td>Стандартные издания</td>\n",
       "    </tr>\n",
       "    <tr>\n",
       "      <th>3</th>\n",
       "      <td>1855</td>\n",
       "      <td>10032.0</td>\n",
       "      <td>Battlefield 4 [PC, русская версия]</td>\n",
       "      <td>Игры PC</td>\n",
       "      <td>Стандартные издания</td>\n",
       "    </tr>\n",
       "    <tr>\n",
       "      <th>4</th>\n",
       "      <td>3331</td>\n",
       "      <td>8262.0</td>\n",
       "      <td>FIFA 14 [PC, русская версия]</td>\n",
       "      <td>Игры PC</td>\n",
       "      <td>Стандартные издания</td>\n",
       "    </tr>\n",
       "    <tr>\n",
       "      <th>5</th>\n",
       "      <td>2445</td>\n",
       "      <td>7788.0</td>\n",
       "      <td>Crysis 3 [PC, русская версия]</td>\n",
       "      <td>Игры PC</td>\n",
       "      <td>Стандартные издания</td>\n",
       "    </tr>\n",
       "    <tr>\n",
       "      <th>6</th>\n",
       "      <td>2308</td>\n",
       "      <td>7588.0</td>\n",
       "      <td>Call of Duty: Black Ops II [PС, Jewel, русская...</td>\n",
       "      <td>Игры PC</td>\n",
       "      <td>Стандартные издания</td>\n",
       "    </tr>\n",
       "    <tr>\n",
       "      <th>7</th>\n",
       "      <td>3732</td>\n",
       "      <td>16642.0</td>\n",
       "      <td>Grand Theft Auto V [PS3, русские субтитры]</td>\n",
       "      <td>Игры</td>\n",
       "      <td>PS3</td>\n",
       "    </tr>\n",
       "    <tr>\n",
       "      <th>8</th>\n",
       "      <td>16787</td>\n",
       "      <td>9227.0</td>\n",
       "      <td>Одни из нас [PS3, русская версия]</td>\n",
       "      <td>Игры</td>\n",
       "      <td>PS3</td>\n",
       "    </tr>\n",
       "    <tr>\n",
       "      <th>9</th>\n",
       "      <td>17717</td>\n",
       "      <td>15830.0</td>\n",
       "      <td>Прием денежных средств для 1С-Онлайн</td>\n",
       "      <td>Служебные</td>\n",
       "      <td>NaN</td>\n",
       "    </tr>\n",
       "    <tr>\n",
       "      <th>10</th>\n",
       "      <td>5822</td>\n",
       "      <td>14515.0</td>\n",
       "      <td>Playstation Store пополнение бумажника: Карта ...</td>\n",
       "      <td>Карты оплаты</td>\n",
       "      <td>PSN</td>\n",
       "    </tr>\n",
       "    <tr>\n",
       "      <th>11</th>\n",
       "      <td>3734</td>\n",
       "      <td>11688.0</td>\n",
       "      <td>Grand Theft Auto V [Xbox 360, русские субтитры]</td>\n",
       "      <td>Игры</td>\n",
       "      <td>XBOX 360</td>\n",
       "    </tr>\n",
       "    <tr>\n",
       "      <th>12</th>\n",
       "      <td>6675</td>\n",
       "      <td>10289.0</td>\n",
       "      <td>Sony PlayStation 4 (500 Gb) Black (CUH-1008A/1...</td>\n",
       "      <td>Игровые консоли</td>\n",
       "      <td>PS4</td>\n",
       "    </tr>\n",
       "    <tr>\n",
       "      <th>13</th>\n",
       "      <td>7856</td>\n",
       "      <td>9012.0</td>\n",
       "      <td>World of Warcraft. Карта оплаты игрового време...</td>\n",
       "      <td>Игры PC</td>\n",
       "      <td>Дополнительные издания</td>\n",
       "    </tr>\n",
       "    <tr>\n",
       "      <th>14</th>\n",
       "      <td>4181</td>\n",
       "      <td>8869.0</td>\n",
       "      <td>Kaspersky Internet Security Multi-Device Russi...</td>\n",
       "      <td>Программы</td>\n",
       "      <td>Для дома и офиса</td>\n",
       "    </tr>\n",
       "  </tbody>\n",
       "</table>\n",
       "</div>"
      ],
      "text/plain": [
       "    item_id  item_cnt                                          item_name  \\\n",
       "0     20949  187642.0  Фирменный пакет майка 1С Интерес белый (34*42)...   \n",
       "1      2808   17245.0             Diablo III [PC, Jewel, русская версия]   \n",
       "2      3731   10099.0          Grand Theft Auto V [PC, русские субтитры]   \n",
       "3      1855   10032.0                 Battlefield 4 [PC, русская версия]   \n",
       "4      3331    8262.0                       FIFA 14 [PC, русская версия]   \n",
       "5      2445    7788.0                      Crysis 3 [PC, русская версия]   \n",
       "6      2308    7588.0  Call of Duty: Black Ops II [PС, Jewel, русская...   \n",
       "7      3732   16642.0         Grand Theft Auto V [PS3, русские субтитры]   \n",
       "8     16787    9227.0                  Одни из нас [PS3, русская версия]   \n",
       "9     17717   15830.0               Прием денежных средств для 1С-Онлайн   \n",
       "10     5822   14515.0  Playstation Store пополнение бумажника: Карта ...   \n",
       "11     3734   11688.0    Grand Theft Auto V [Xbox 360, русские субтитры]   \n",
       "12     6675   10289.0  Sony PlayStation 4 (500 Gb) Black (CUH-1008A/1...   \n",
       "13     7856    9012.0  World of Warcraft. Карта оплаты игрового време...   \n",
       "14     4181    8869.0  Kaspersky Internet Security Multi-Device Russi...   \n",
       "\n",
       "              cat_1                            cat_2  \n",
       "0           Подарки   Сумки, Альбомы, Коврики д/мыши  \n",
       "1           Игры PC              Стандартные издания  \n",
       "2           Игры PC              Стандартные издания  \n",
       "3           Игры PC              Стандартные издания  \n",
       "4           Игры PC              Стандартные издания  \n",
       "5           Игры PC              Стандартные издания  \n",
       "6           Игры PC              Стандартные издания  \n",
       "7              Игры                              PS3  \n",
       "8              Игры                              PS3  \n",
       "9         Служебные                              NaN  \n",
       "10     Карты оплаты                              PSN  \n",
       "11             Игры                         XBOX 360  \n",
       "12  Игровые консоли                              PS4  \n",
       "13          Игры PC           Дополнительные издания  \n",
       "14        Программы                 Для дома и офиса  "
      ]
     },
     "execution_count": 11,
     "metadata": {},
     "output_type": "execute_result"
    },
    {
     "data": {
      "text/plain": [
       "<Figure size 1440x360 with 0 Axes>"
      ]
     },
     "metadata": {},
     "output_type": "display_data"
    }
   ],
   "source": [
    "total_sales = pd.DataFrame(sales_train.groupby('item_id')['item_cnt_day'].sum())\n",
    "total_sales.columns = ['item_cnt']\n",
    "\n",
    "fig = plt.figure(figsize=(20, 5))\n",
    "bar_data = total_sales.sort_values('item_cnt', ascending=False).iloc[:15]\n",
    "bar_data = bar_data.reset_index()\n",
    "bar_data.merge(items, on='item_id').merge(item_categories, on='item_category_id')\\\n",
    "                                        [['item_id', 'item_cnt', 'item_name', 'cat_1', 'cat_2']]"
   ]
  },
  {
   "cell_type": "markdown",
   "metadata": {},
   "source": [
    "В целом ситуация похожа. Разве что, здесь более популярны игры для ПК."
   ]
  },
  {
   "cell_type": "markdown",
   "metadata": {},
   "source": [
    "Итого, для ТЦ Июнь будем строить 2 прогноза: по пакетам и по игре GTA 5."
   ]
  },
  {
   "cell_type": "markdown",
   "metadata": {},
   "source": [
    "# Конструируем исходные данные для прогноза\n",
    "\n",
    "Начнем с GTA 5"
   ]
  },
  {
   "cell_type": "code",
   "execution_count": 22,
   "metadata": {},
   "outputs": [
    {
     "data": {
      "text/html": [
       "<div>\n",
       "<style scoped>\n",
       "    .dataframe tbody tr th:only-of-type {\n",
       "        vertical-align: middle;\n",
       "    }\n",
       "\n",
       "    .dataframe tbody tr th {\n",
       "        vertical-align: top;\n",
       "    }\n",
       "\n",
       "    .dataframe thead th {\n",
       "        text-align: right;\n",
       "    }\n",
       "</style>\n",
       "<table border=\"1\" class=\"dataframe\">\n",
       "  <thead>\n",
       "    <tr style=\"text-align: right;\">\n",
       "      <th></th>\n",
       "      <th>date</th>\n",
       "      <th>date_block_num</th>\n",
       "      <th>shop_id</th>\n",
       "      <th>item_id</th>\n",
       "      <th>item_price</th>\n",
       "      <th>item_cnt_day</th>\n",
       "    </tr>\n",
       "  </thead>\n",
       "  <tbody>\n",
       "    <tr>\n",
       "      <th>858692</th>\n",
       "      <td>18.09.2013</td>\n",
       "      <td>8</td>\n",
       "      <td>18</td>\n",
       "      <td>3732</td>\n",
       "      <td>2534.000000</td>\n",
       "      <td>156.0</td>\n",
       "    </tr>\n",
       "    <tr>\n",
       "      <th>858694</th>\n",
       "      <td>19.09.2013</td>\n",
       "      <td>8</td>\n",
       "      <td>18</td>\n",
       "      <td>3732</td>\n",
       "      <td>2517.000000</td>\n",
       "      <td>30.0</td>\n",
       "    </tr>\n",
       "    <tr>\n",
       "      <th>858695</th>\n",
       "      <td>21.09.2013</td>\n",
       "      <td>8</td>\n",
       "      <td>18</td>\n",
       "      <td>3732</td>\n",
       "      <td>2580.428571</td>\n",
       "      <td>7.0</td>\n",
       "    </tr>\n",
       "    <tr>\n",
       "      <th>858714</th>\n",
       "      <td>30.09.2013</td>\n",
       "      <td>8</td>\n",
       "      <td>18</td>\n",
       "      <td>3732</td>\n",
       "      <td>2599.000000</td>\n",
       "      <td>22.0</td>\n",
       "    </tr>\n",
       "    <tr>\n",
       "      <th>858715</th>\n",
       "      <td>29.09.2013</td>\n",
       "      <td>8</td>\n",
       "      <td>18</td>\n",
       "      <td>3732</td>\n",
       "      <td>2599.000000</td>\n",
       "      <td>4.0</td>\n",
       "    </tr>\n",
       "  </tbody>\n",
       "</table>\n",
       "</div>"
      ],
      "text/plain": [
       "              date  date_block_num  shop_id  item_id   item_price  \\\n",
       "858692  18.09.2013               8       18     3732  2534.000000   \n",
       "858694  19.09.2013               8       18     3732  2517.000000   \n",
       "858695  21.09.2013               8       18     3732  2580.428571   \n",
       "858714  30.09.2013               8       18     3732  2599.000000   \n",
       "858715  29.09.2013               8       18     3732  2599.000000   \n",
       "\n",
       "        item_cnt_day  \n",
       "858692         156.0  \n",
       "858694          30.0  \n",
       "858695           7.0  \n",
       "858714          22.0  \n",
       "858715           4.0  "
      ]
     },
     "execution_count": 22,
     "metadata": {},
     "output_type": "execute_result"
    }
   ],
   "source": [
    "shop18_gta = shop18[shop18['item_id'] == 3732]\n",
    "shop18_gta.head(5)"
   ]
  },
  {
   "cell_type": "code",
   "execution_count": 20,
   "metadata": {},
   "outputs": [
    {
     "data": {
      "image/png": "[encoded data removed]",
      "text/plain": [
       "<Figure size 1440x360 with 1 Axes>"
      ]
     },
     "metadata": {
      "needs_background": "light"
     },
     "output_type": "display_data"
    }
   ],
   "source": [
    "fig = plt.figure(figsize=(20, 5))\n",
    "plt.plot(shop18_gta.groupby('date_block_num')['item_cnt_day'].sum())\n",
    "plt.show()"
   ]
  },
  {
   "cell_type": "markdown",
   "metadata": {},
   "source": [
    "Открылась очень интересная и очевидная закономерность: спрос на игры максимален после релиза, а потом он постепенно падает и к ноябрю 2015 находится около нулевой отметки. Посмотрим ту же GTA V на остальных магазинах тестовой выборки."
   ]
  },
  {
   "cell_type": "code",
   "execution_count": 33,
   "metadata": {
    "scrolled": false
   },
   "outputs": [
    {
     "data": {
      "image/png": "[encoded data removed]",
      "text/plain": [
       "<Figure size 1440x360 with 1 Axes>"
      ]
     },
     "metadata": {
      "needs_background": "light"
     },
     "output_type": "display_data"
    }
   ],
   "source": [
    "fig = plt.figure(figsize=(20, 5))\n",
    "for shop_id in np.sort(test['shop_id'].unique()):\n",
    "    shop = sales_train[sales_train['shop_id'] == shop_id]\n",
    "    gta = shop[shop['item_id'] == 3732]    \n",
    "    plt.plot(gta.groupby('date_block_num')['item_cnt_day'].sum())\n",
    "plt.show()"
   ]
  },
  {
   "cell_type": "markdown",
   "metadata": {},
   "source": [
    "А теперь другой вопрос: из наших 5100 товаров сколько являются видеоиграми?"
   ]
  },
  {
   "cell_type": "code",
   "execution_count": 68,
   "metadata": {},
   "outputs": [
    {
     "data": {
      "text/html": [
       "<div>\n",
       "<style scoped>\n",
       "    .dataframe tbody tr th:only-of-type {\n",
       "        vertical-align: middle;\n",
       "    }\n",
       "\n",
       "    .dataframe tbody tr th {\n",
       "        vertical-align: top;\n",
       "    }\n",
       "\n",
       "    .dataframe thead th {\n",
       "        text-align: right;\n",
       "    }\n",
       "</style>\n",
       "<table border=\"1\" class=\"dataframe\">\n",
       "  <thead>\n",
       "    <tr style=\"text-align: right;\">\n",
       "      <th></th>\n",
       "      <th>shop_id</th>\n",
       "      <th>item_id</th>\n",
       "      <th>item_name</th>\n",
       "      <th>item_category_id</th>\n",
       "      <th>item_category_name</th>\n",
       "      <th>cat_1</th>\n",
       "      <th>cat_2</th>\n",
       "    </tr>\n",
       "  </thead>\n",
       "  <tbody>\n",
       "    <tr>\n",
       "      <th>0</th>\n",
       "      <td>5</td>\n",
       "      <td>5037</td>\n",
       "      <td>NHL 15 [PS3, русские субтитры]</td>\n",
       "      <td>19</td>\n",
       "      <td>Игры - PS3</td>\n",
       "      <td>Игры</td>\n",
       "      <td>PS3</td>\n",
       "    </tr>\n",
       "    <tr>\n",
       "      <th>1</th>\n",
       "      <td>4</td>\n",
       "      <td>5037</td>\n",
       "      <td>NHL 15 [PS3, русские субтитры]</td>\n",
       "      <td>19</td>\n",
       "      <td>Игры - PS3</td>\n",
       "      <td>Игры</td>\n",
       "      <td>PS3</td>\n",
       "    </tr>\n",
       "    <tr>\n",
       "      <th>2</th>\n",
       "      <td>6</td>\n",
       "      <td>5037</td>\n",
       "      <td>NHL 15 [PS3, русские субтитры]</td>\n",
       "      <td>19</td>\n",
       "      <td>Игры - PS3</td>\n",
       "      <td>Игры</td>\n",
       "      <td>PS3</td>\n",
       "    </tr>\n",
       "    <tr>\n",
       "      <th>3</th>\n",
       "      <td>3</td>\n",
       "      <td>5037</td>\n",
       "      <td>NHL 15 [PS3, русские субтитры]</td>\n",
       "      <td>19</td>\n",
       "      <td>Игры - PS3</td>\n",
       "      <td>Игры</td>\n",
       "      <td>PS3</td>\n",
       "    </tr>\n",
       "    <tr>\n",
       "      <th>4</th>\n",
       "      <td>2</td>\n",
       "      <td>5037</td>\n",
       "      <td>NHL 15 [PS3, русские субтитры]</td>\n",
       "      <td>19</td>\n",
       "      <td>Игры - PS3</td>\n",
       "      <td>Игры</td>\n",
       "      <td>PS3</td>\n",
       "    </tr>\n",
       "    <tr>\n",
       "      <th>...</th>\n",
       "      <td>...</td>\n",
       "      <td>...</td>\n",
       "      <td>...</td>\n",
       "      <td>...</td>\n",
       "      <td>...</td>\n",
       "      <td>...</td>\n",
       "      <td>...</td>\n",
       "    </tr>\n",
       "    <tr>\n",
       "      <th>214195</th>\n",
       "      <td>46</td>\n",
       "      <td>168</td>\n",
       "      <td>1С:Аудиокниги. Аудиокурсы по географии. 6 клас...</td>\n",
       "      <td>44</td>\n",
       "      <td>Книги - Аудиокниги (Цифра)</td>\n",
       "      <td>Книги</td>\n",
       "      <td>Аудиокниги (Цифра)</td>\n",
       "    </tr>\n",
       "    <tr>\n",
       "      <th>214196</th>\n",
       "      <td>41</td>\n",
       "      <td>168</td>\n",
       "      <td>1С:Аудиокниги. Аудиокурсы по географии. 6 клас...</td>\n",
       "      <td>44</td>\n",
       "      <td>Книги - Аудиокниги (Цифра)</td>\n",
       "      <td>Книги</td>\n",
       "      <td>Аудиокниги (Цифра)</td>\n",
       "    </tr>\n",
       "    <tr>\n",
       "      <th>214197</th>\n",
       "      <td>44</td>\n",
       "      <td>168</td>\n",
       "      <td>1С:Аудиокниги. Аудиокурсы по географии. 6 клас...</td>\n",
       "      <td>44</td>\n",
       "      <td>Книги - Аудиокниги (Цифра)</td>\n",
       "      <td>Книги</td>\n",
       "      <td>Аудиокниги (Цифра)</td>\n",
       "    </tr>\n",
       "    <tr>\n",
       "      <th>214198</th>\n",
       "      <td>39</td>\n",
       "      <td>168</td>\n",
       "      <td>1С:Аудиокниги. Аудиокурсы по географии. 6 клас...</td>\n",
       "      <td>44</td>\n",
       "      <td>Книги - Аудиокниги (Цифра)</td>\n",
       "      <td>Книги</td>\n",
       "      <td>Аудиокниги (Цифра)</td>\n",
       "    </tr>\n",
       "    <tr>\n",
       "      <th>214199</th>\n",
       "      <td>45</td>\n",
       "      <td>168</td>\n",
       "      <td>1С:Аудиокниги. Аудиокурсы по географии. 6 клас...</td>\n",
       "      <td>44</td>\n",
       "      <td>Книги - Аудиокниги (Цифра)</td>\n",
       "      <td>Книги</td>\n",
       "      <td>Аудиокниги (Цифра)</td>\n",
       "    </tr>\n",
       "  </tbody>\n",
       "</table>\n",
       "<p>214200 rows × 7 columns</p>\n",
       "</div>"
      ],
      "text/plain": [
       "        shop_id  item_id                                          item_name  \\\n",
       "0             5     5037                     NHL 15 [PS3, русские субтитры]   \n",
       "1             4     5037                     NHL 15 [PS3, русские субтитры]   \n",
       "2             6     5037                     NHL 15 [PS3, русские субтитры]   \n",
       "3             3     5037                     NHL 15 [PS3, русские субтитры]   \n",
       "4             2     5037                     NHL 15 [PS3, русские субтитры]   \n",
       "...         ...      ...                                                ...   \n",
       "214195       46      168  1С:Аудиокниги. Аудиокурсы по географии. 6 клас...   \n",
       "214196       41      168  1С:Аудиокниги. Аудиокурсы по географии. 6 клас...   \n",
       "214197       44      168  1С:Аудиокниги. Аудиокурсы по географии. 6 клас...   \n",
       "214198       39      168  1С:Аудиокниги. Аудиокурсы по географии. 6 клас...   \n",
       "214199       45      168  1С:Аудиокниги. Аудиокурсы по географии. 6 клас...   \n",
       "\n",
       "        item_category_id          item_category_name  cat_1  \\\n",
       "0                     19                  Игры - PS3   Игры   \n",
       "1                     19                  Игры - PS3   Игры   \n",
       "2                     19                  Игры - PS3   Игры   \n",
       "3                     19                  Игры - PS3   Игры   \n",
       "4                     19                  Игры - PS3   Игры   \n",
       "...                  ...                         ...    ...   \n",
       "214195                44  Книги - Аудиокниги (Цифра)  Книги   \n",
       "214196                44  Книги - Аудиокниги (Цифра)  Книги   \n",
       "214197                44  Книги - Аудиокниги (Цифра)  Книги   \n",
       "214198                44  Книги - Аудиокниги (Цифра)  Книги   \n",
       "214199                44  Книги - Аудиокниги (Цифра)  Книги   \n",
       "\n",
       "                      cat_2  \n",
       "0                       PS3  \n",
       "1                       PS3  \n",
       "2                       PS3  \n",
       "3                       PS3  \n",
       "4                       PS3  \n",
       "...                     ...  \n",
       "214195   Аудиокниги (Цифра)  \n",
       "214196   Аудиокниги (Цифра)  \n",
       "214197   Аудиокниги (Цифра)  \n",
       "214198   Аудиокниги (Цифра)  \n",
       "214199   Аудиокниги (Цифра)  \n",
       "\n",
       "[214200 rows x 7 columns]"
      ]
     },
     "execution_count": 68,
     "metadata": {},
     "output_type": "execute_result"
    }
   ],
   "source": [
    "test.merge(items).merge(item_categories)"
   ]
  },
  {
   "cell_type": "code",
   "execution_count": 63,
   "metadata": {},
   "outputs": [
    {
     "name": "stdout",
     "output_type": "stream",
     "text": [
      "Видеоигр - 1075\n"
     ]
    }
   ],
   "source": [
    "video_games = test.merge(items).merge(item_categories)\n",
    "video_games = video_games[(video_games['cat_1'] == 'Игры') | (video_games['cat_1'] == 'Игры PC')]['item_id'].unique()\n",
    "print(f'Видеоигр - {len(video_games)}')"
   ]
  },
  {
   "cell_type": "markdown",
   "metadata": {},
   "source": [
    "Это чуть более 20%. Посмотрим сначала, в каком количестве магазинов продается каждая игра. Понятно, что в каждом магазине тестовой выборки скорее всего представлены все 1075 игр. Но скорее всего на самом деле далеко не каждый магазин продает все 1075 игр."
   ]
  },
  {
   "cell_type": "code",
   "execution_count": 71,
   "metadata": {},
   "outputs": [
    {
     "data": {
      "text/plain": [
       "(2935849, 6)"
      ]
     },
     "execution_count": 71,
     "metadata": {},
     "output_type": "execute_result"
    }
   ],
   "source": [
    "sales_train.shape"
   ]
  },
  {
   "cell_type": "code",
   "execution_count": 95,
   "metadata": {},
   "outputs": [
    {
     "data": {
      "image/png": "[encoded data removed]",
      "text/plain": [
       "<Figure size 1440x360 with 1 Axes>"
      ]
     },
     "metadata": {
      "needs_background": "light"
     },
     "output_type": "display_data"
    }
   ],
   "source": [
    "test_shops = test['shop_id'].unique()\n",
    "game_by_shop = sales_train[np.isin(sales_train['shop_id'], test_shops) & np.isin(sales_train['item_id'], video_games)]\\\n",
    "[['shop_id', 'item_id']].drop_duplicates()\n",
    "game_by_shop = game_by_shop.groupby('item_id')['shop_id'].count()\n",
    "game_by_shop = game_by_shop.reset_index().sort_values('shop_id', ascending=False).reset_index()[['item_id', 'shop_id']]\n",
    "fig = plt.figure(figsize=(20, 5))\n",
    "plt.plot(game_by_shop['shop_id'])\n",
    "plt.xlabel('Количество игр')\n",
    "plt.ylabel('Количество магазинов')\n",
    "plt.show()"
   ]
  },
  {
   "cell_type": "code",
   "execution_count": 91,
   "metadata": {},
   "outputs": [
    {
     "data": {
      "text/html": [
       "<div>\n",
       "<style scoped>\n",
       "    .dataframe tbody tr th:only-of-type {\n",
       "        vertical-align: middle;\n",
       "    }\n",
       "\n",
       "    .dataframe tbody tr th {\n",
       "        vertical-align: top;\n",
       "    }\n",
       "\n",
       "    .dataframe thead th {\n",
       "        text-align: right;\n",
       "    }\n",
       "</style>\n",
       "<table border=\"1\" class=\"dataframe\">\n",
       "  <thead>\n",
       "    <tr style=\"text-align: right;\">\n",
       "      <th></th>\n",
       "      <th>item_id</th>\n",
       "      <th>shop_id</th>\n",
       "    </tr>\n",
       "  </thead>\n",
       "  <tbody>\n",
       "    <tr>\n",
       "      <th>0</th>\n",
       "      <td>15040</td>\n",
       "      <td>41</td>\n",
       "    </tr>\n",
       "    <tr>\n",
       "      <th>1</th>\n",
       "      <td>7087</td>\n",
       "      <td>41</td>\n",
       "    </tr>\n",
       "    <tr>\n",
       "      <th>2</th>\n",
       "      <td>7003</td>\n",
       "      <td>41</td>\n",
       "    </tr>\n",
       "    <tr>\n",
       "      <th>3</th>\n",
       "      <td>4806</td>\n",
       "      <td>41</td>\n",
       "    </tr>\n",
       "    <tr>\n",
       "      <th>4</th>\n",
       "      <td>13159</td>\n",
       "      <td>41</td>\n",
       "    </tr>\n",
       "    <tr>\n",
       "      <th>...</th>\n",
       "      <td>...</td>\n",
       "      <td>...</td>\n",
       "    </tr>\n",
       "    <tr>\n",
       "      <th>987</th>\n",
       "      <td>4864</td>\n",
       "      <td>1</td>\n",
       "    </tr>\n",
       "    <tr>\n",
       "      <th>988</th>\n",
       "      <td>4848</td>\n",
       "      <td>1</td>\n",
       "    </tr>\n",
       "    <tr>\n",
       "      <th>989</th>\n",
       "      <td>4788</td>\n",
       "      <td>1</td>\n",
       "    </tr>\n",
       "    <tr>\n",
       "      <th>990</th>\n",
       "      <td>4767</td>\n",
       "      <td>1</td>\n",
       "    </tr>\n",
       "    <tr>\n",
       "      <th>991</th>\n",
       "      <td>21995</td>\n",
       "      <td>1</td>\n",
       "    </tr>\n",
       "  </tbody>\n",
       "</table>\n",
       "<p>992 rows × 2 columns</p>\n",
       "</div>"
      ],
      "text/plain": [
       "     item_id  shop_id\n",
       "0      15040       41\n",
       "1       7087       41\n",
       "2       7003       41\n",
       "3       4806       41\n",
       "4      13159       41\n",
       "..       ...      ...\n",
       "987     4864        1\n",
       "988     4848        1\n",
       "989     4788        1\n",
       "990     4767        1\n",
       "991    21995        1\n",
       "\n",
       "[992 rows x 2 columns]"
      ]
     },
     "execution_count": 91,
     "metadata": {},
     "output_type": "execute_result"
    }
   ],
   "source": [
    "game_by_shop"
   ]
  },
  {
   "cell_type": "code",
   "execution_count": 69,
   "metadata": {
    "scrolled": false
   },
   "outputs": [],
   "source": [
    "#for i, game_id in enumerate(video_games):\n",
    "#    fig = plt.figure(figsize=(20, 5))\n",
    "#    for shop_id in np.sort(test['shop_id'].unique()):\n",
    "#        shop = sales_train[sales_train['shop_id'] == shop_id]\n",
    "#        gta = shop[shop['item_id'] == game_id]    \n",
    "#        plt.plot(gta.groupby('date_block_num')['item_cnt_day'].sum())\n",
    "#        plt.xlabel(f'{i + 1}. ' + items[items['item_id'] == game_id]['item_name'].values[0])        \n",
    "#        plt.ylim(0, 200)\n",
    "#    plt.show()"
   ]
  },
  {
   "cell_type": "code",
   "execution_count": 24,
   "metadata": {},
   "outputs": [
    {
     "data": {
      "text/html": [
       "<div>\n",
       "<style scoped>\n",
       "    .dataframe tbody tr th:only-of-type {\n",
       "        vertical-align: middle;\n",
       "    }\n",
       "\n",
       "    .dataframe tbody tr th {\n",
       "        vertical-align: top;\n",
       "    }\n",
       "\n",
       "    .dataframe thead th {\n",
       "        text-align: right;\n",
       "    }\n",
       "</style>\n",
       "<table border=\"1\" class=\"dataframe\">\n",
       "  <thead>\n",
       "    <tr style=\"text-align: right;\">\n",
       "      <th></th>\n",
       "      <th>date</th>\n",
       "      <th>date_block_num</th>\n",
       "      <th>shop_id</th>\n",
       "      <th>item_id</th>\n",
       "      <th>item_price</th>\n",
       "      <th>item_cnt_day</th>\n",
       "    </tr>\n",
       "  </thead>\n",
       "  <tbody>\n",
       "    <tr>\n",
       "      <th>0</th>\n",
       "      <td>02.01.2013</td>\n",
       "      <td>0</td>\n",
       "      <td>59</td>\n",
       "      <td>22154</td>\n",
       "      <td>999.00</td>\n",
       "      <td>1.0</td>\n",
       "    </tr>\n",
       "    <tr>\n",
       "      <th>1</th>\n",
       "      <td>03.01.2013</td>\n",
       "      <td>0</td>\n",
       "      <td>25</td>\n",
       "      <td>2552</td>\n",
       "      <td>899.00</td>\n",
       "      <td>1.0</td>\n",
       "    </tr>\n",
       "    <tr>\n",
       "      <th>2</th>\n",
       "      <td>05.01.2013</td>\n",
       "      <td>0</td>\n",
       "      <td>25</td>\n",
       "      <td>2552</td>\n",
       "      <td>899.00</td>\n",
       "      <td>-1.0</td>\n",
       "    </tr>\n",
       "    <tr>\n",
       "      <th>3</th>\n",
       "      <td>06.01.2013</td>\n",
       "      <td>0</td>\n",
       "      <td>25</td>\n",
       "      <td>2554</td>\n",
       "      <td>1709.05</td>\n",
       "      <td>1.0</td>\n",
       "    </tr>\n",
       "    <tr>\n",
       "      <th>4</th>\n",
       "      <td>15.01.2013</td>\n",
       "      <td>0</td>\n",
       "      <td>25</td>\n",
       "      <td>2555</td>\n",
       "      <td>1099.00</td>\n",
       "      <td>1.0</td>\n",
       "    </tr>\n",
       "    <tr>\n",
       "      <th>...</th>\n",
       "      <td>...</td>\n",
       "      <td>...</td>\n",
       "      <td>...</td>\n",
       "      <td>...</td>\n",
       "      <td>...</td>\n",
       "      <td>...</td>\n",
       "    </tr>\n",
       "    <tr>\n",
       "      <th>2935844</th>\n",
       "      <td>10.10.2015</td>\n",
       "      <td>33</td>\n",
       "      <td>25</td>\n",
       "      <td>7409</td>\n",
       "      <td>299.00</td>\n",
       "      <td>1.0</td>\n",
       "    </tr>\n",
       "    <tr>\n",
       "      <th>2935845</th>\n",
       "      <td>09.10.2015</td>\n",
       "      <td>33</td>\n",
       "      <td>25</td>\n",
       "      <td>7460</td>\n",
       "      <td>299.00</td>\n",
       "      <td>1.0</td>\n",
       "    </tr>\n",
       "    <tr>\n",
       "      <th>2935846</th>\n",
       "      <td>14.10.2015</td>\n",
       "      <td>33</td>\n",
       "      <td>25</td>\n",
       "      <td>7459</td>\n",
       "      <td>349.00</td>\n",
       "      <td>1.0</td>\n",
       "    </tr>\n",
       "    <tr>\n",
       "      <th>2935847</th>\n",
       "      <td>22.10.2015</td>\n",
       "      <td>33</td>\n",
       "      <td>25</td>\n",
       "      <td>7440</td>\n",
       "      <td>299.00</td>\n",
       "      <td>1.0</td>\n",
       "    </tr>\n",
       "    <tr>\n",
       "      <th>2935848</th>\n",
       "      <td>03.10.2015</td>\n",
       "      <td>33</td>\n",
       "      <td>25</td>\n",
       "      <td>7460</td>\n",
       "      <td>299.00</td>\n",
       "      <td>1.0</td>\n",
       "    </tr>\n",
       "  </tbody>\n",
       "</table>\n",
       "<p>2935849 rows × 6 columns</p>\n",
       "</div>"
      ],
      "text/plain": [
       "               date  date_block_num  shop_id  item_id  item_price  \\\n",
       "0        02.01.2013               0       59    22154      999.00   \n",
       "1        03.01.2013               0       25     2552      899.00   \n",
       "2        05.01.2013               0       25     2552      899.00   \n",
       "3        06.01.2013               0       25     2554     1709.05   \n",
       "4        15.01.2013               0       25     2555     1099.00   \n",
       "...             ...             ...      ...      ...         ...   \n",
       "2935844  10.10.2015              33       25     7409      299.00   \n",
       "2935845  09.10.2015              33       25     7460      299.00   \n",
       "2935846  14.10.2015              33       25     7459      349.00   \n",
       "2935847  22.10.2015              33       25     7440      299.00   \n",
       "2935848  03.10.2015              33       25     7460      299.00   \n",
       "\n",
       "         item_cnt_day  \n",
       "0                 1.0  \n",
       "1                 1.0  \n",
       "2                -1.0  \n",
       "3                 1.0  \n",
       "4                 1.0  \n",
       "...               ...  \n",
       "2935844           1.0  \n",
       "2935845           1.0  \n",
       "2935846           1.0  \n",
       "2935847           1.0  \n",
       "2935848           1.0  \n",
       "\n",
       "[2935849 rows x 6 columns]"
      ]
     },
     "execution_count": 24,
     "metadata": {},
     "output_type": "execute_result"
    }
   ],
   "source": [
    "sales_train"
   ]
  },
  {
   "cell_type": "code",
   "execution_count": 14,
   "metadata": {},
   "outputs": [
    {
     "data": {
      "text/html": [
       "<div>\n",
       "<style scoped>\n",
       "    .dataframe tbody tr th:only-of-type {\n",
       "        vertical-align: middle;\n",
       "    }\n",
       "\n",
       "    .dataframe tbody tr th {\n",
       "        vertical-align: top;\n",
       "    }\n",
       "\n",
       "    .dataframe thead th {\n",
       "        text-align: right;\n",
       "    }\n",
       "</style>\n",
       "<table border=\"1\" class=\"dataframe\">\n",
       "  <thead>\n",
       "    <tr style=\"text-align: right;\">\n",
       "      <th></th>\n",
       "      <th>date</th>\n",
       "      <th>date_block_num</th>\n",
       "      <th>shop_id</th>\n",
       "      <th>item_id</th>\n",
       "      <th>item_price</th>\n",
       "      <th>item_cnt_day</th>\n",
       "    </tr>\n",
       "  </thead>\n",
       "  <tbody>\n",
       "    <tr>\n",
       "      <th>378386</th>\n",
       "      <td>30.04.2013</td>\n",
       "      <td>3</td>\n",
       "      <td>18</td>\n",
       "      <td>20949</td>\n",
       "      <td>5.0</td>\n",
       "      <td>9.0</td>\n",
       "    </tr>\n",
       "    <tr>\n",
       "      <th>514874</th>\n",
       "      <td>11.05.2013</td>\n",
       "      <td>4</td>\n",
       "      <td>18</td>\n",
       "      <td>20949</td>\n",
       "      <td>5.0</td>\n",
       "      <td>13.0</td>\n",
       "    </tr>\n",
       "    <tr>\n",
       "      <th>514875</th>\n",
       "      <td>10.05.2013</td>\n",
       "      <td>4</td>\n",
       "      <td>18</td>\n",
       "      <td>20949</td>\n",
       "      <td>5.0</td>\n",
       "      <td>9.0</td>\n",
       "    </tr>\n",
       "    <tr>\n",
       "      <th>514876</th>\n",
       "      <td>09.05.2013</td>\n",
       "      <td>4</td>\n",
       "      <td>18</td>\n",
       "      <td>20949</td>\n",
       "      <td>5.0</td>\n",
       "      <td>9.0</td>\n",
       "    </tr>\n",
       "    <tr>\n",
       "      <th>514877</th>\n",
       "      <td>08.05.2013</td>\n",
       "      <td>4</td>\n",
       "      <td>18</td>\n",
       "      <td>20949</td>\n",
       "      <td>5.0</td>\n",
       "      <td>10.0</td>\n",
       "    </tr>\n",
       "  </tbody>\n",
       "</table>\n",
       "</div>"
      ],
      "text/plain": [
       "              date  date_block_num  shop_id  item_id  item_price  item_cnt_day\n",
       "378386  30.04.2013               3       18    20949         5.0           9.0\n",
       "514874  11.05.2013               4       18    20949         5.0          13.0\n",
       "514875  10.05.2013               4       18    20949         5.0           9.0\n",
       "514876  09.05.2013               4       18    20949         5.0           9.0\n",
       "514877  08.05.2013               4       18    20949         5.0          10.0"
      ]
     },
     "execution_count": 14,
     "metadata": {},
     "output_type": "execute_result"
    }
   ],
   "source": [
    "shop18_bag = shop18[shop18['item_id'] == 20949]\n",
    "shop18_bag.head()"
   ]
  },
  {
   "cell_type": "code",
   "execution_count": 17,
   "metadata": {},
   "outputs": [
    {
     "data": {
      "image/png": "[encoded data removed]",
      "text/plain": [
       "<Figure size 1440x360 with 1 Axes>"
      ]
     },
     "metadata": {
      "needs_background": "light"
     },
     "output_type": "display_data"
    }
   ],
   "source": [
    "fig = plt.figure(figsize=(20, 5))\n",
    "plt.plot(shop18_bag.groupby('date_block_num')['item_cnt_day'].sum())\n",
    "plt.show()"
   ]
  }
 ],
 "metadata": {
  "kernelspec": {
   "display_name": "Python 3",
   "language": "python",
   "name": "python3"
  },
  "language_info": {
   "codemirror_mode": {
    "name": "ipython",
    "version": 3
   },
   "file_extension": ".py",
   "mimetype": "text/x-python",
   "name": "python",
   "nbconvert_exporter": "python",
   "pygments_lexer": "ipython3",
   "version": "3.6.5"
  }
 },
 "nbformat": 4,
 "nbformat_minor": 4
}
