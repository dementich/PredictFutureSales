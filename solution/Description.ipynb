{
 "cells": [
  {
   "cell_type": "code",
   "execution_count": 3,
   "metadata": {},
   "outputs": [],
   "source": [
    "import numpy as np\n",
    "import pandas as pd"
   ]
  },
  {
   "cell_type": "markdown",
   "metadata": {},
   "source": [
    "# Описание\n",
    "\n",
    "Это задание является финальным проектом курса Coursera «How to win a Data Science competition».\n",
    "\n",
    "В этом конкурсе вы будете работать со сложным набором данных временных рядов, состоящим из ежедневных данных о продажах, любезно предоставленных одним из крупнейших российских разработчиков программного обеспечения - компанией 1С.\n",
    "\n",
    "Мы просим вас спрогнозировать общий объем продаж для каждого продукта и магазина в следующем месяце. Решив этот конкурс, вы сможете применить и улучшить свои навыки работы с данными."
   ]
  },
  {
   "cell_type": "markdown",
   "metadata": {},
   "source": [
    "# Данные\n",
    "\n",
    "На вход предоставляются ежедневные исторические данные о продажах. Задача - спрогнозировать общее количество проданных товаров в каждом магазине по тестовой выборке. Обратите внимание, что список магазинов и товаров каждый месяц немного меняется. Создание надежной модели, способной справиться с такими ситуациями, является частью задачи.\n",
    "\n",
    "## Описание файлов\n",
    "\n",
    "* sales_train.csv - обучающая выборка. Содержит ежедневные исторические данные с января 2013 года по октябрь 2015 года.\n",
    "* test.csv - тестовая выборка. Требуется спрогнозировать продажи этих магазинов и товаров на ноябрь 2015 года.\n",
    "* sample_submission.csv - пример файла отправки в правильном формате.\n",
    "* items.csv - дополнительная информация о товарах.\n",
    "* item_categories.csv - дополнительная информация о категориях товаров.\n",
    "* shops.csv - дополнительная информация о магазинах.\n",
    "\n",
    "## Описание полей данных\n",
    "\n",
    "* ID - идентификатор, который представляет пару (Магазин, Товар) в тестовой выборке\n",
    "* shop_id - уникальный идентификатор магазина\n",
    "* item_id - уникальный идентификатор товара\n",
    "* item_category_id - уникальный идентификатор категории товара\n",
    "* item_cnt_day - количество проданных товаров. Вы прогнозируете ежемесячную сумму по этому атрибуту\n",
    "* item_price - текущая цена товара\n",
    "* date - дата в формате дд/мм/гггг\n",
    "* date_block_num - сквозной порядковый номер месяца. Январь 2013 - 0, февраль 2013 - 1, ..., октябрь 2015 - 33\n",
    "* item_name - название товара\n",
    "* shop_name - название магазина\n",
    "* item_category_name - название категории товара"
   ]
  },
  {
   "cell_type": "code",
   "execution_count": 1,
   "metadata": {},
   "outputs": [
    {
     "name": "stdout",
     "output_type": "stream",
     "text": [
      "env: competition=competitive-data-science-final-project\n",
      "Downloading competitive-data-science-final-project.zip to e:\\Worker\\ML\\AdvML\\Week5\\FinalCompetition\\solution\n",
      "\n"
     ]
    },
    {
     "name": "stderr",
     "output_type": "stream",
     "text": [
      "\n",
      "  0%|          | 0.00/14.3M [00:00<?, ?B/s]\n",
      "  7%|▋         | 1.00M/14.3M [00:00<00:08, 1.71MB/s]\n",
      " 35%|███▌      | 5.00M/14.3M [00:00<00:04, 2.40MB/s]\n",
      " 49%|████▉     | 7.00M/14.3M [00:00<00:02, 3.22MB/s]\n",
      " 63%|██████▎   | 9.00M/14.3M [00:01<00:01, 4.06MB/s]\n",
      " 77%|███████▋  | 11.0M/14.3M [00:01<00:00, 5.07MB/s]\n",
      " 91%|█████████ | 13.0M/14.3M [00:01<00:00, 6.08MB/s]\n",
      "100%|██████████| 14.3M/14.3M [00:01<00:00, 7.08MB/s]\n",
      "100%|██████████| 14.3M/14.3M [00:01<00:00, 9.79MB/s]\n"
     ]
    },
    {
     "name": "stdout",
     "output_type": "stream",
     "text": [
      "Archive:  competitive-data-science-final-project.zip\n",
      "  inflating: ../data/item_categories.csv  \n",
      "  inflating: ../data/item_cats.csv   \n",
      "  inflating: ../data/items.csv       \n",
      "  inflating: ../data/sales_train.csv.gz  \n",
      "  inflating: ../data/sample_submission.csv.gz  \n",
      "  inflating: ../data/shops.csv       \n",
      "  inflating: ../data/test.csv.gz     \n"
     ]
    }
   ],
   "source": [
    "%env competition=competitive-data-science-final-project\n",
    "!kaggle competitions download -c %competition%\n",
    "!unzip %competition%.zip -d ../data\n",
    "!rm %competition%.zip"
   ]
  },
  {
   "cell_type": "markdown",
   "metadata": {},
   "source": [
    "# Оценка\n",
    "\n",
    "Качество прогнозов продаж оценивается по среднеквадратичной ошибке (RMSE). Истинные целевые значения ограничиваются диапазоном [0,20].\n",
    "\n",
    "Для каждого идентификатора в тестовом наборе необходимо спрогнозировать общее количество продаж. Файл должен содержать заголовок и иметь следующий формат:\n",
    "\n",
    "```csv\n",
    "ID,item_cnt_month\n",
    "0,0.5\n",
    "1,0.5\n",
    "2,0.5\n",
    "3,0.5\n",
    "etc.\n",
    "```"
   ]
  },
  {
   "cell_type": "markdown",
   "metadata": {},
   "source": [
    "# Подходы к решению"
   ]
  }
 ],
 "metadata": {
  "kernelspec": {
   "display_name": "Python 3",
   "language": "python",
   "name": "python3"
  },
  "language_info": {
   "codemirror_mode": {
    "name": "ipython",
    "version": 3
   },
   "file_extension": ".py",
   "mimetype": "text/x-python",
   "name": "python",
   "nbconvert_exporter": "python",
   "pygments_lexer": "ipython3",
   "version": "3.6.5"
  }
 },
 "nbformat": 4,
 "nbformat_minor": 4
}
